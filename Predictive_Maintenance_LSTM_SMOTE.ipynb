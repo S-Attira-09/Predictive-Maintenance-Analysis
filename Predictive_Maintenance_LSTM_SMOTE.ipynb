{
  "nbformat": 4,
  "nbformat_minor": 0,
  "metadata": {
    "colab": {
      "provenance": []
    },
    "kernelspec": {
      "name": "python3",
      "display_name": "Python 3"
    },
    "language_info": {
      "name": "python"
    }
  },
  "cells": [
    {
      "cell_type": "code",
      "execution_count": null,
      "metadata": {
        "id": "on3gG7MSibOb"
      },
      "outputs": [],
      "source": [
        "import pandas as pd\n",
        "import numpy as np\n",
        "from sklearn.preprocessing import StandardScaler, LabelEncoder\n",
        "from sklearn.model_selection import train_test_split\n",
        "import tensorflow as tf\n",
        "from tensorflow.keras.models import Sequential\n",
        "from tensorflow.keras.layers import LSTM, Dense, Dropout\n",
        "from tensorflow.keras.callbacks import EarlyStopping\n",
        "from imblearn.over_sampling import SMOTE"
      ]
    },
    {
      "cell_type": "code",
      "source": [
        "data = pd.read_csv('/content/predictive_maintenance.csv')"
      ],
      "metadata": {
        "id": "9NC6K6GAiewE"
      },
      "execution_count": null,
      "outputs": []
    },
    {
      "cell_type": "code",
      "source": [
        "# Data Preprocessing\n",
        "# Normalize numerical features\n",
        "scaler = StandardScaler()\n",
        "numerical_features = ['Air temperature [K]', 'Process temperature [K]', 'Rotational speed [rpm]', 'Torque [Nm]', 'Tool wear [min]']\n",
        "data[numerical_features] = scaler.fit_transform(data[numerical_features])"
      ],
      "metadata": {
        "id": "jBOANyFQizbr"
      },
      "execution_count": null,
      "outputs": []
    },
    {
      "cell_type": "code",
      "source": [
        "# Encode categorical features\n",
        "label_encoder = LabelEncoder()\n",
        "data['Type'] = label_encoder.fit_transform(data['Type'])\n",
        "data['Failure Type'] = label_encoder.fit_transform(data['Failure Type'])\n"
      ],
      "metadata": {
        "id": "gtOwmIFoi308"
      },
      "execution_count": null,
      "outputs": []
    },
    {
      "cell_type": "code",
      "source": [
        "# Drop 'Product ID' column since it's non-numeric\n",
        "\n",
        "data = data.drop(['Product ID', 'UDI'], axis=1)\n"
      ],
      "metadata": {
        "id": "ux2-NMUpjOuo"
      },
      "execution_count": null,
      "outputs": []
    },
    {
      "cell_type": "code",
      "source": [
        "# Verify all columns are numeric\n",
        "print(data.dtypes)"
      ],
      "metadata": {
        "colab": {
          "base_uri": "https://localhost:8080/"
        },
        "id": "obgIOki5j0NP",
        "outputId": "d7225782-901f-45f1-c15d-a67b102cbbde"
      },
      "execution_count": null,
      "outputs": [
        {
          "output_type": "stream",
          "name": "stdout",
          "text": [
            "Type                         int64\n",
            "Air temperature [K]        float64\n",
            "Process temperature [K]    float64\n",
            "Rotational speed [rpm]     float64\n",
            "Torque [Nm]                float64\n",
            "Tool wear [min]            float64\n",
            "Target                       int64\n",
            "Failure Type                 int64\n",
            "dtype: object\n"
          ]
        }
      ]
    },
    {
      "cell_type": "code",
      "source": [
        "# Split the data into features and target\n",
        "X = data.drop(['Target', 'Failure Type'], axis=1)\n",
        "y = data['Target']"
      ],
      "metadata": {
        "id": "CYOq2KRli6YU"
      },
      "execution_count": null,
      "outputs": []
    },
    {
      "cell_type": "code",
      "source": [
        "# Split the data into training and testing sets\n",
        "X_train, X_test, y_train, y_test = train_test_split(X, y, test_size=0.2, random_state=42)"
      ],
      "metadata": {
        "id": "G3QPhnYpi9eQ"
      },
      "execution_count": null,
      "outputs": []
    },
    {
      "cell_type": "code",
      "source": [
        "# Data Augmentation using SMOTE\n",
        "smote = SMOTE(random_state=42)\n",
        "X_train_res, y_train_res = smote.fit_resample(X_train, y_train)"
      ],
      "metadata": {
        "id": "7GlCWXarjAo6"
      },
      "execution_count": null,
      "outputs": []
    },
    {
      "cell_type": "code",
      "source": [
        "# Reshape data for LSTM (samples, time steps, features)\n",
        "X_train_res = X_train_res.values.reshape((X_train_res.shape[0], 1, X_train_res.shape[1]))\n",
        "X_test = X_test.values.reshape((X_test.shape[0], 1, X_test.shape[1]))"
      ],
      "metadata": {
        "id": "ITuImi4rjDyJ"
      },
      "execution_count": null,
      "outputs": []
    },
    {
      "cell_type": "code",
      "source": [
        "# Build LSTM Model\n",
        "model = Sequential()\n",
        "model.add(LSTM(50, activation='relu', input_shape=(X_train_res.shape[1], X_train_res.shape[2])))\n",
        "model.add(Dropout(0.2))\n",
        "model.add(Dense(1, activation='sigmoid'))"
      ],
      "metadata": {
        "id": "4MN0dR7RkayK"
      },
      "execution_count": null,
      "outputs": []
    },
    {
      "cell_type": "code",
      "source": [
        "# Compile the model\n",
        "model.compile(optimizer='adam', loss='binary_crossentropy', metrics=['accuracy'])\n"
      ],
      "metadata": {
        "id": "lAPellG6kdGI"
      },
      "execution_count": null,
      "outputs": []
    },
    {
      "cell_type": "code",
      "source": [
        "# Train the model\n",
        "early_stopping = EarlyStopping(monitor='val_loss', patience=5, restore_best_weights=True)\n",
        "history = model.fit(X_train_res, y_train_res, epochs=50, batch_size=32, validation_split=0.2, callbacks=[early_stopping])\n"
      ],
      "metadata": {
        "colab": {
          "base_uri": "https://localhost:8080/"
        },
        "id": "IjY8Zipxkfpu",
        "outputId": "a23cf823-cf69-478d-a659-86d21b096d74"
      },
      "execution_count": null,
      "outputs": [
        {
          "output_type": "stream",
          "name": "stdout",
          "text": [
            "Epoch 1/50\n",
            "387/387 [==============================] - 5s 4ms/step - loss: 0.4662 - accuracy: 0.8148 - val_loss: 0.3550 - val_accuracy: 0.8472\n",
            "Epoch 2/50\n",
            "387/387 [==============================] - 1s 4ms/step - loss: 0.3141 - accuracy: 0.8672 - val_loss: 0.3390 - val_accuracy: 0.8550\n",
            "Epoch 3/50\n",
            "387/387 [==============================] - 1s 3ms/step - loss: 0.2858 - accuracy: 0.8826 - val_loss: 0.2825 - val_accuracy: 0.8903\n",
            "Epoch 4/50\n",
            "387/387 [==============================] - 1s 3ms/step - loss: 0.2653 - accuracy: 0.8887 - val_loss: 0.2778 - val_accuracy: 0.8964\n",
            "Epoch 5/50\n",
            "387/387 [==============================] - 1s 3ms/step - loss: 0.2523 - accuracy: 0.8989 - val_loss: 0.2954 - val_accuracy: 0.8909\n",
            "Epoch 6/50\n",
            "387/387 [==============================] - 1s 3ms/step - loss: 0.2402 - accuracy: 0.9044 - val_loss: 0.2468 - val_accuracy: 0.9123\n",
            "Epoch 7/50\n",
            "387/387 [==============================] - 1s 3ms/step - loss: 0.2325 - accuracy: 0.9071 - val_loss: 0.2866 - val_accuracy: 0.8967\n",
            "Epoch 8/50\n",
            "387/387 [==============================] - 1s 3ms/step - loss: 0.2280 - accuracy: 0.9053 - val_loss: 0.2570 - val_accuracy: 0.9081\n",
            "Epoch 9/50\n",
            "387/387 [==============================] - 2s 5ms/step - loss: 0.2192 - accuracy: 0.9122 - val_loss: 0.2771 - val_accuracy: 0.9061\n",
            "Epoch 10/50\n",
            "387/387 [==============================] - 2s 5ms/step - loss: 0.2133 - accuracy: 0.9161 - val_loss: 0.2381 - val_accuracy: 0.9197\n",
            "Epoch 11/50\n",
            "387/387 [==============================] - 2s 4ms/step - loss: 0.2087 - accuracy: 0.9166 - val_loss: 0.2331 - val_accuracy: 0.9236\n",
            "Epoch 12/50\n",
            "387/387 [==============================] - 2s 5ms/step - loss: 0.2090 - accuracy: 0.9171 - val_loss: 0.2485 - val_accuracy: 0.9152\n",
            "Epoch 13/50\n",
            "387/387 [==============================] - 1s 3ms/step - loss: 0.2036 - accuracy: 0.9210 - val_loss: 0.2295 - val_accuracy: 0.9246\n",
            "Epoch 14/50\n",
            "387/387 [==============================] - 1s 3ms/step - loss: 0.1975 - accuracy: 0.9233 - val_loss: 0.2405 - val_accuracy: 0.9155\n",
            "Epoch 15/50\n",
            "387/387 [==============================] - 1s 3ms/step - loss: 0.1950 - accuracy: 0.9224 - val_loss: 0.2386 - val_accuracy: 0.9236\n",
            "Epoch 16/50\n",
            "387/387 [==============================] - 1s 3ms/step - loss: 0.1933 - accuracy: 0.9246 - val_loss: 0.2406 - val_accuracy: 0.9204\n",
            "Epoch 17/50\n",
            "387/387 [==============================] - 1s 3ms/step - loss: 0.1879 - accuracy: 0.9263 - val_loss: 0.2235 - val_accuracy: 0.9294\n",
            "Epoch 18/50\n",
            "387/387 [==============================] - 1s 3ms/step - loss: 0.1865 - accuracy: 0.9266 - val_loss: 0.2430 - val_accuracy: 0.9217\n",
            "Epoch 19/50\n",
            "387/387 [==============================] - 2s 5ms/step - loss: 0.1830 - accuracy: 0.9283 - val_loss: 0.2072 - val_accuracy: 0.9298\n",
            "Epoch 20/50\n",
            "387/387 [==============================] - 2s 5ms/step - loss: 0.1777 - accuracy: 0.9291 - val_loss: 0.2056 - val_accuracy: 0.9298\n",
            "Epoch 21/50\n",
            "387/387 [==============================] - 1s 4ms/step - loss: 0.1782 - accuracy: 0.9294 - val_loss: 0.1928 - val_accuracy: 0.9314\n",
            "Epoch 22/50\n",
            "387/387 [==============================] - 1s 3ms/step - loss: 0.1735 - accuracy: 0.9306 - val_loss: 0.1940 - val_accuracy: 0.9320\n",
            "Epoch 23/50\n",
            "387/387 [==============================] - 1s 3ms/step - loss: 0.1733 - accuracy: 0.9306 - val_loss: 0.2143 - val_accuracy: 0.9294\n",
            "Epoch 24/50\n",
            "387/387 [==============================] - 1s 3ms/step - loss: 0.1678 - accuracy: 0.9331 - val_loss: 0.2115 - val_accuracy: 0.9310\n",
            "Epoch 25/50\n",
            "387/387 [==============================] - 1s 3ms/step - loss: 0.1696 - accuracy: 0.9327 - val_loss: 0.1972 - val_accuracy: 0.9343\n",
            "Epoch 26/50\n",
            "387/387 [==============================] - 1s 4ms/step - loss: 0.1675 - accuracy: 0.9335 - val_loss: 0.1723 - val_accuracy: 0.9443\n",
            "Epoch 27/50\n",
            "387/387 [==============================] - 1s 3ms/step - loss: 0.1670 - accuracy: 0.9326 - val_loss: 0.2046 - val_accuracy: 0.9304\n",
            "Epoch 28/50\n",
            "387/387 [==============================] - 2s 5ms/step - loss: 0.1600 - accuracy: 0.9354 - val_loss: 0.1898 - val_accuracy: 0.9362\n",
            "Epoch 29/50\n",
            "387/387 [==============================] - 2s 5ms/step - loss: 0.1610 - accuracy: 0.9365 - val_loss: 0.1625 - val_accuracy: 0.9430\n",
            "Epoch 30/50\n",
            "387/387 [==============================] - 2s 4ms/step - loss: 0.1580 - accuracy: 0.9378 - val_loss: 0.1831 - val_accuracy: 0.9417\n",
            "Epoch 31/50\n",
            "387/387 [==============================] - 1s 4ms/step - loss: 0.1526 - accuracy: 0.9394 - val_loss: 0.1938 - val_accuracy: 0.9349\n",
            "Epoch 32/50\n",
            "387/387 [==============================] - 2s 4ms/step - loss: 0.1553 - accuracy: 0.9383 - val_loss: 0.2033 - val_accuracy: 0.9317\n",
            "Epoch 33/50\n",
            "387/387 [==============================] - 1s 3ms/step - loss: 0.1515 - accuracy: 0.9372 - val_loss: 0.1636 - val_accuracy: 0.9482\n",
            "Epoch 34/50\n",
            "387/387 [==============================] - 1s 3ms/step - loss: 0.1530 - accuracy: 0.9381 - val_loss: 0.1605 - val_accuracy: 0.9398\n",
            "Epoch 35/50\n",
            "387/387 [==============================] - 1s 3ms/step - loss: 0.1518 - accuracy: 0.9388 - val_loss: 0.1455 - val_accuracy: 0.9521\n",
            "Epoch 36/50\n",
            "387/387 [==============================] - 1s 3ms/step - loss: 0.1497 - accuracy: 0.9386 - val_loss: 0.1523 - val_accuracy: 0.9440\n",
            "Epoch 37/50\n",
            "387/387 [==============================] - 1s 3ms/step - loss: 0.1475 - accuracy: 0.9407 - val_loss: 0.1692 - val_accuracy: 0.9408\n",
            "Epoch 38/50\n",
            "387/387 [==============================] - 2s 5ms/step - loss: 0.1453 - accuracy: 0.9433 - val_loss: 0.1662 - val_accuracy: 0.9437\n",
            "Epoch 39/50\n",
            "387/387 [==============================] - 2s 4ms/step - loss: 0.1440 - accuracy: 0.9419 - val_loss: 0.1724 - val_accuracy: 0.9375\n",
            "Epoch 40/50\n",
            "387/387 [==============================] - 1s 4ms/step - loss: 0.1438 - accuracy: 0.9433 - val_loss: 0.1635 - val_accuracy: 0.9440\n"
          ]
        }
      ]
    },
    {
      "cell_type": "code",
      "source": [
        "# Evaluate the model\n",
        "loss, accuracy = model.evaluate(X_test, y_test)\n",
        "print(f'Test Loss: {loss}')\n",
        "print(f'Test Accuracy: {accuracy}')"
      ],
      "metadata": {
        "colab": {
          "base_uri": "https://localhost:8080/"
        },
        "id": "3eExFFaYkjLd",
        "outputId": "b24e58ab-9910-4af5-cdf7-e632e7f8fa5a"
      },
      "execution_count": null,
      "outputs": [
        {
          "output_type": "stream",
          "name": "stdout",
          "text": [
            "63/63 [==============================] - 0s 2ms/step - loss: 0.1501 - accuracy: 0.9360\n",
            "Test Loss: 0.15010680258274078\n",
            "Test Accuracy: 0.9359999895095825\n"
          ]
        }
      ]
    },
    {
      "cell_type": "code",
      "source": [
        "model.save('pretrained_model.h5')"
      ],
      "metadata": {
        "colab": {
          "base_uri": "https://localhost:8080/"
        },
        "id": "YxLErB8Xk9en",
        "outputId": "8829451e-11ce-442d-cd86-0e6067bed985"
      },
      "execution_count": null,
      "outputs": [
        {
          "output_type": "stream",
          "name": "stderr",
          "text": [
            "/usr/local/lib/python3.10/dist-packages/keras/src/engine/training.py:3103: UserWarning: You are saving your model as an HDF5 file via `model.save()`. This file format is considered legacy. We recommend using instead the native Keras format, e.g. `model.save('my_model.keras')`.\n",
            "  saving_api.save_model(\n"
          ]
        }
      ]
    },
    {
      "cell_type": "code",
      "source": [
        "# Transfer Learning (fine-tuning a pre-trained model)\n",
        "# Assuming a pre-trained model 'pretrained_model.h5' is available\n",
        "pretrained_model = tf.keras.models.load_model('pretrained_model.h5')"
      ],
      "metadata": {
        "id": "3h-fA-mmmHP1"
      },
      "execution_count": null,
      "outputs": []
    },
    {
      "cell_type": "code",
      "source": [
        "\n",
        "\n",
        "# Fine-tune the model\n",
        "for layer in pretrained_model.layers[:-1]:\n",
        "    layer.trainable = False\n",
        "\n",
        "pretrained_model.add(Dense(1, activation='sigmoid'))\n",
        "\n",
        "pretrained_model.compile(optimizer='adam', loss='binary_crossentropy', metrics=['accuracy'])\n",
        "\n",
        "history_transfer = pretrained_model.fit(X_train_res, y_train_res, epochs=50, batch_size=32, validation_split=0.2, callbacks=[early_stopping])\n",
        "\n",
        "# Evaluate the fine-tuned model\n",
        "loss_transfer, accuracy_transfer = pretrained_model.evaluate(X_test, y_test)\n",
        "print(f'Test Loss (Transfer Learning): {loss_transfer}')\n",
        "print(f'Test Accuracy (Transfer Learning): {accuracy_transfer}')"
      ],
      "metadata": {
        "colab": {
          "base_uri": "https://localhost:8080/"
        },
        "id": "8d7fXf-Bk9bV",
        "outputId": "fef3bb9b-8902-4b4a-b98d-a6f0267c4c3c"
      },
      "execution_count": null,
      "outputs": [
        {
          "output_type": "stream",
          "name": "stdout",
          "text": [
            "Epoch 1/50\n",
            "387/387 [==============================] - 7s 9ms/step - loss: 0.6501 - accuracy: 0.8605 - val_loss: 0.6727 - val_accuracy: 0.8805\n",
            "Epoch 2/50\n",
            "387/387 [==============================] - 3s 7ms/step - loss: 0.5738 - accuracy: 0.9348 - val_loss: 0.6253 - val_accuracy: 0.9132\n",
            "Epoch 3/50\n",
            "387/387 [==============================] - 1s 3ms/step - loss: 0.5106 - accuracy: 0.9401 - val_loss: 0.5694 - val_accuracy: 0.9291\n",
            "Epoch 4/50\n",
            "387/387 [==============================] - 1s 3ms/step - loss: 0.4581 - accuracy: 0.9412 - val_loss: 0.5192 - val_accuracy: 0.9336\n",
            "Epoch 5/50\n",
            "387/387 [==============================] - 1s 3ms/step - loss: 0.4139 - accuracy: 0.9392 - val_loss: 0.4711 - val_accuracy: 0.9404\n",
            "Epoch 6/50\n",
            "387/387 [==============================] - 1s 3ms/step - loss: 0.3772 - accuracy: 0.9415 - val_loss: 0.4325 - val_accuracy: 0.9421\n",
            "Epoch 7/50\n",
            "387/387 [==============================] - 1s 3ms/step - loss: 0.3453 - accuracy: 0.9388 - val_loss: 0.3917 - val_accuracy: 0.9450\n",
            "Epoch 8/50\n",
            "387/387 [==============================] - 1s 3ms/step - loss: 0.3172 - accuracy: 0.9422 - val_loss: 0.3642 - val_accuracy: 0.9440\n",
            "Epoch 9/50\n",
            "387/387 [==============================] - 1s 3ms/step - loss: 0.2962 - accuracy: 0.9392 - val_loss: 0.3355 - val_accuracy: 0.9466\n",
            "Epoch 10/50\n",
            "387/387 [==============================] - 1s 3ms/step - loss: 0.2750 - accuracy: 0.9425 - val_loss: 0.3121 - val_accuracy: 0.9466\n",
            "Epoch 11/50\n",
            "387/387 [==============================] - 1s 4ms/step - loss: 0.2584 - accuracy: 0.9424 - val_loss: 0.2905 - val_accuracy: 0.9472\n",
            "Epoch 12/50\n",
            "387/387 [==============================] - 2s 4ms/step - loss: 0.2438 - accuracy: 0.9417 - val_loss: 0.2731 - val_accuracy: 0.9485\n",
            "Epoch 13/50\n",
            "387/387 [==============================] - 2s 4ms/step - loss: 0.2325 - accuracy: 0.9427 - val_loss: 0.2556 - val_accuracy: 0.9495\n",
            "Epoch 14/50\n",
            "387/387 [==============================] - 1s 3ms/step - loss: 0.2214 - accuracy: 0.9410 - val_loss: 0.2427 - val_accuracy: 0.9505\n",
            "Epoch 15/50\n",
            "387/387 [==============================] - 1s 3ms/step - loss: 0.2125 - accuracy: 0.9431 - val_loss: 0.2304 - val_accuracy: 0.9505\n",
            "Epoch 16/50\n",
            "387/387 [==============================] - 1s 3ms/step - loss: 0.2054 - accuracy: 0.9421 - val_loss: 0.2207 - val_accuracy: 0.9505\n",
            "Epoch 17/50\n",
            "387/387 [==============================] - 1s 3ms/step - loss: 0.1982 - accuracy: 0.9428 - val_loss: 0.2140 - val_accuracy: 0.9501\n",
            "Epoch 18/50\n",
            "387/387 [==============================] - 1s 3ms/step - loss: 0.1904 - accuracy: 0.9435 - val_loss: 0.2051 - val_accuracy: 0.9508\n",
            "Epoch 19/50\n",
            "387/387 [==============================] - 1s 3ms/step - loss: 0.1885 - accuracy: 0.9416 - val_loss: 0.2043 - val_accuracy: 0.9492\n",
            "Epoch 20/50\n",
            "387/387 [==============================] - 1s 3ms/step - loss: 0.1842 - accuracy: 0.9434 - val_loss: 0.2024 - val_accuracy: 0.9482\n",
            "Epoch 21/50\n",
            "387/387 [==============================] - 1s 3ms/step - loss: 0.1810 - accuracy: 0.9432 - val_loss: 0.1923 - val_accuracy: 0.9495\n",
            "Epoch 22/50\n",
            "387/387 [==============================] - 1s 3ms/step - loss: 0.1795 - accuracy: 0.9440 - val_loss: 0.1908 - val_accuracy: 0.9492\n",
            "Epoch 23/50\n",
            "387/387 [==============================] - 2s 4ms/step - loss: 0.1792 - accuracy: 0.9412 - val_loss: 0.1858 - val_accuracy: 0.9489\n",
            "Epoch 24/50\n",
            "387/387 [==============================] - 2s 4ms/step - loss: 0.1759 - accuracy: 0.9419 - val_loss: 0.1838 - val_accuracy: 0.9495\n",
            "Epoch 25/50\n",
            "387/387 [==============================] - 1s 4ms/step - loss: 0.1719 - accuracy: 0.9436 - val_loss: 0.1856 - val_accuracy: 0.9485\n",
            "Epoch 26/50\n",
            "387/387 [==============================] - 1s 3ms/step - loss: 0.1720 - accuracy: 0.9426 - val_loss: 0.1805 - val_accuracy: 0.9498\n",
            "Epoch 27/50\n",
            "387/387 [==============================] - 1s 3ms/step - loss: 0.1691 - accuracy: 0.9442 - val_loss: 0.1793 - val_accuracy: 0.9501\n",
            "Epoch 28/50\n",
            "387/387 [==============================] - 1s 3ms/step - loss: 0.1693 - accuracy: 0.9428 - val_loss: 0.1749 - val_accuracy: 0.9518\n",
            "Epoch 29/50\n",
            "387/387 [==============================] - 1s 3ms/step - loss: 0.1685 - accuracy: 0.9431 - val_loss: 0.1760 - val_accuracy: 0.9514\n",
            "Epoch 30/50\n",
            "387/387 [==============================] - 1s 3ms/step - loss: 0.1660 - accuracy: 0.9444 - val_loss: 0.1740 - val_accuracy: 0.9521\n",
            "Epoch 31/50\n",
            "387/387 [==============================] - 1s 3ms/step - loss: 0.1646 - accuracy: 0.9452 - val_loss: 0.1721 - val_accuracy: 0.9518\n",
            "Epoch 32/50\n",
            "387/387 [==============================] - 1s 3ms/step - loss: 0.1693 - accuracy: 0.9416 - val_loss: 0.1732 - val_accuracy: 0.9514\n",
            "Epoch 33/50\n",
            "387/387 [==============================] - 1s 3ms/step - loss: 0.1690 - accuracy: 0.9415 - val_loss: 0.1720 - val_accuracy: 0.9514\n",
            "Epoch 34/50\n",
            "387/387 [==============================] - 2s 5ms/step - loss: 0.1640 - accuracy: 0.9441 - val_loss: 0.1740 - val_accuracy: 0.9508\n",
            "Epoch 35/50\n",
            "387/387 [==============================] - 2s 5ms/step - loss: 0.1641 - accuracy: 0.9421 - val_loss: 0.1792 - val_accuracy: 0.9489\n",
            "Epoch 36/50\n",
            "387/387 [==============================] - 1s 3ms/step - loss: 0.1672 - accuracy: 0.9435 - val_loss: 0.1726 - val_accuracy: 0.9511\n",
            "Epoch 37/50\n",
            "387/387 [==============================] - 1s 3ms/step - loss: 0.1687 - accuracy: 0.9395 - val_loss: 0.1742 - val_accuracy: 0.9511\n",
            "Epoch 38/50\n",
            "387/387 [==============================] - 1s 3ms/step - loss: 0.1649 - accuracy: 0.9415 - val_loss: 0.1748 - val_accuracy: 0.9505\n",
            "63/63 [==============================] - 0s 3ms/step - loss: 0.1560 - accuracy: 0.9425\n",
            "Test Loss (Transfer Learning): 0.15601365268230438\n",
            "Test Accuracy (Transfer Learning): 0.9424999952316284\n"
          ]
        }
      ]
    },
    {
      "cell_type": "code",
      "source": [],
      "metadata": {
        "id": "7QNh1APVmLpT"
      },
      "execution_count": null,
      "outputs": []
    }
  ]
}